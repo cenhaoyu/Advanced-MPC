{
 "cells": [
  {
   "cell_type": "markdown",
   "id": "40c522a4",
   "metadata": {},
   "source": [
    "Copyright (C) 2023, Alexandre Didier, Jérôme Sieber, Rahel Rickenbach and Shao (Mike) Zhang, ETH Zurich,\n",
    "{adidier,jsieber, rrahel}@ethz.ch\n",
    "\n",
    "All rights reserved.\n",
    "\n",
    "This code is only made available for students taking the advanced MPC \n",
    "class in the fall semester of 2023 (151-0371-00L) and is NOT to be \n",
    "distributed.\n",
    "\n",
    "### Nominal MPC"
   ]
  },
  {
   "cell_type": "code",
   "execution_count": 1,
   "id": "ce510200",
   "metadata": {},
   "outputs": [],
   "source": [
    "# enable seamless adoption of changes to external python scripts\n",
    "%load_ext autoreload\n",
    "%autoreload 2"
   ]
  },
  {
   "cell_type": "code",
   "execution_count": 2,
   "id": "65103117",
   "metadata": {},
   "outputs": [
    {
     "ename": "ModuleNotFoundError",
     "evalue": "No module named 'ampyc.params.params_nmpc'",
     "output_type": "error",
     "traceback": [
      "\u001b[0;31m---------------------------------------------------------------------------\u001b[0m",
      "\u001b[0;31mModuleNotFoundError\u001b[0m                       Traceback (most recent call last)",
      "Cell \u001b[0;32mIn[2], line 2\u001b[0m\n\u001b[1;32m      1\u001b[0m \u001b[38;5;28;01mimport\u001b[39;00m \u001b[38;5;21;01mnumpy\u001b[39;00m \u001b[38;5;28;01mas\u001b[39;00m \u001b[38;5;21;01mnp\u001b[39;00m\n\u001b[0;32m----> 2\u001b[0m \u001b[38;5;28;01mfrom\u001b[39;00m \u001b[38;5;21;01mampyc\u001b[39;00m\u001b[38;5;21;01m.\u001b[39;00m\u001b[38;5;21;01mparams\u001b[39;00m \u001b[38;5;28;01mimport\u001b[39;00m MPCParams\n\u001b[1;32m      3\u001b[0m \u001b[38;5;28;01mfrom\u001b[39;00m \u001b[38;5;21;01mampyc\u001b[39;00m\u001b[38;5;21;01m.\u001b[39;00m\u001b[38;5;21;01msystems\u001b[39;00m \u001b[38;5;28;01mimport\u001b[39;00m LinearSystem\n\u001b[1;32m      4\u001b[0m \u001b[38;5;28;01mfrom\u001b[39;00m \u001b[38;5;21;01mampyc\u001b[39;00m\u001b[38;5;21;01m.\u001b[39;00m\u001b[38;5;21;01mcontrollers\u001b[39;00m \u001b[38;5;28;01mimport\u001b[39;00m MPC\n",
      "File \u001b[0;32m~/Downloads/ampyc-main/ampyc/params/__init__.py:17\u001b[0m\n\u001b[1;32m     15\u001b[0m \u001b[38;5;124;03m'''Parameters for each MPC controller and its associated simulation'''\u001b[39;00m\n\u001b[1;32m     16\u001b[0m \u001b[38;5;28;01mfrom\u001b[39;00m \u001b[38;5;21;01m.\u001b[39;00m\u001b[38;5;21;01mparams_mpc\u001b[39;00m \u001b[38;5;28;01mimport\u001b[39;00m MPCParams\n\u001b[0;32m---> 17\u001b[0m \u001b[38;5;28;01mfrom\u001b[39;00m \u001b[38;5;21;01m.\u001b[39;00m\u001b[38;5;21;01mparams_nmpc\u001b[39;00m \u001b[38;5;28;01mimport\u001b[39;00m NonlinearMPCParams\n\u001b[1;32m     19\u001b[0m \u001b[38;5;28;01mfrom\u001b[39;00m \u001b[38;5;21;01m.\u001b[39;00m\u001b[38;5;21;01mparams_rmpc\u001b[39;00m \u001b[38;5;28;01mimport\u001b[39;00m RMPCParams\n\u001b[1;32m     20\u001b[0m \u001b[38;5;28;01mfrom\u001b[39;00m \u001b[38;5;21;01m.\u001b[39;00m\u001b[38;5;21;01mparams_rnmpc\u001b[39;00m \u001b[38;5;28;01mimport\u001b[39;00m NonlinearRMPCParams\n",
      "\u001b[0;31mModuleNotFoundError\u001b[0m: No module named 'ampyc.params.params_nmpc'"
     ]
    }
   ],
   "source": [
    "import numpy as np\n",
    "from ampyc.params import MPCParams\n",
    "from ampyc.systems import LinearSystem\n",
    "from ampyc.controllers import MPC\n",
    "from ampyc.plotting import plot_x_state_time, plot_x_state_state, plot_u"
   ]
  },
  {
   "cell_type": "code",
   "execution_count": null,
   "id": "e805ecac",
   "metadata": {},
   "outputs": [],
   "source": [
    "# set random seed\n",
    "np.random.seed(0)"
   ]
  },
  {
   "cell_type": "markdown",
   "id": "8cdb7157",
   "metadata": {},
   "source": [
    "##### Get parameters and define system and controller"
   ]
  },
  {
   "cell_type": "code",
   "execution_count": null,
   "id": "537a495d-19ac-4165-9152-ad9f5e54aa70",
   "metadata": {},
   "outputs": [],
   "source": [
    "params = MPCParams()\n",
    "sys = LinearSystem(params.sys)\n",
    "ctrl = MPC(sys, params.ctrl)"
   ]
  },
  {
   "cell_type": "markdown",
   "id": "4fc2dcfc",
   "metadata": {},
   "source": [
    "##### Simulate the closed-loop system"
   ]
  },
  {
   "cell_type": "code",
   "execution_count": null,
   "id": "ba8dec9c",
   "metadata": {},
   "outputs": [],
   "source": [
    "# trajectories starting in x_0\n",
    "num_steps = params.sim.num_steps\n",
    "num_traj = params.sim.num_traj\n",
    "x_0 = params.sim.x_0\n",
    "\n",
    "# allocate state and input trajectories\n",
    "x = np.zeros((num_steps+1, sys.n, num_traj))\n",
    "u = np.zeros((num_steps, num_traj))\n",
    "x[0,:,:] = x_0\n",
    "\n",
    "# control-loop\n",
    "for i in range(num_traj):\n",
    "    for j in range(num_steps):\n",
    "        sol_u, sol_x, error_msg = ctrl.solve(x[j,:,i], additional_parameters={}, verbose=False)\n",
    "        if error_msg != None:\n",
    "            raise Exception(error_msg)\n",
    "        u[j,i] = sol_u[:,0]\n",
    "        x[j+1,:,i] = sys.step(x[j,:,i], u[j,i]).reshape(-1)"
   ]
  },
  {
   "cell_type": "markdown",
   "id": "37e3bb61",
   "metadata": {},
   "source": [
    "##### Plot results"
   ]
  },
  {
   "cell_type": "code",
   "execution_count": null,
   "id": "8ba33fc5",
   "metadata": {},
   "outputs": [],
   "source": [
    "plot_x_state_time(1, x, sys.X, params.plot)\n",
    "plot_x_state_state(2, x, sys.X, params.plot)\n",
    "plot_u(3, u, sys.U, params.plot)"
   ]
  },
  {
   "cell_type": "code",
   "execution_count": null,
   "id": "7797c7e2",
   "metadata": {},
   "outputs": [],
   "source": []
  }
 ],
 "metadata": {
  "kernelspec": {
   "display_name": "Python 3 (ipykernel)",
   "language": "python",
   "name": "python3"
  },
  "language_info": {
   "codemirror_mode": {
    "name": "ipython",
    "version": 3
   },
   "file_extension": ".py",
   "mimetype": "text/x-python",
   "name": "python",
   "nbconvert_exporter": "python",
   "pygments_lexer": "ipython3",
   "version": "3.8.10"
  }
 },
 "nbformat": 4,
 "nbformat_minor": 5
}
